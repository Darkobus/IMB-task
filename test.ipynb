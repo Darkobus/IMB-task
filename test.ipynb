{
 "cells": [
  {
   "cell_type": "markdown",
   "id": "6e08b6e0",
   "metadata": {},
   "source": [
    "# Data Science Tools and Ecosystem"
   ]
  },
  {
   "cell_type": "markdown",
   "id": "e47a3323",
   "metadata": {},
   "source": [
    "In this notebook, Data Science Tools and Ecosystem are summarized.\n"
   ]
  },
  {
   "cell_type": "markdown",
   "id": "62482002",
   "metadata": {},
   "source": [
    "**Objectives:**\n",
    "\n",
    "- Languages that Data Scientists\n",
    "- Commonly used libraries used by Data Scientists\n",
    "- Data Science Tools"
   ]
  },
  {
   "cell_type": "markdown",
   "id": "86a4d3a3",
   "metadata": {},
   "source": [
    "Some of the popular languages that Data Scientists use are:\n",
    "\n",
    "- Python\n",
    "- R\n",
    "- SQL\n",
    "- Julia\n",
    "- Scala\n",
    "- Java"
   ]
  },
  {
   "cell_type": "markdown",
   "id": "2c59c5f2",
   "metadata": {},
   "source": [
    "Some of the commonly used libraries used by Data Scientists include:\n",
    "\n",
    "- Pandas\n",
    "- TensorFlow\n",
    "- Keras\n",
    "- Numpy\n",
    "- Matplotlib\n",
    "- seaborn\n",
    "- Scikit-learn/Sklearn"
   ]
  },
  {
   "cell_type": "markdown",
   "id": "d29b2b65",
   "metadata": {},
   "source": [
    "|Data Science Tools|\n",
    "|-----------------------------------|\n",
    "| Name          | Purpose of this tool                  |\n",
    "|--------------------|----------------------------------|\n",
    "| Jupyter Notebook   | Interactive coding and visualization |\n",
    "| RStudio            | R programming and data analysis  |\n",
    "| Apache Spark       | Big data processing              |\n",
    "| TensorFlow         | Machine learning and deep learning |\n",
    "| Tableau            | Data visualization               |\n",
    "| Pandas             | Data manipulation in Python      |\n",
    "| Scikit-learn       | Machine learning in Python       |\n",
    "| Git/GitHub         | Version control and collaboration |"
   ]
  },
  {
   "cell_type": "markdown",
   "id": "5ea8e0bb",
   "metadata": {},
   "source": [
    "### Below are a few examples of evaluating arithmetic expressions in Python\n",
    "\n",
    "add = 2+2\n",
    "\n",
    "substract = 2-2\n",
    "\n",
    "multiply = 2*2\n",
    "\n",
    "divide = 2/2\n",
    "\n",
    "square = 2**2"
   ]
  },
  {
   "cell_type": "code",
   "execution_count": 7,
   "id": "cabb3e62",
   "metadata": {},
   "outputs": [
    {
     "data": {
      "text/plain": [
       "17"
      ]
     },
     "execution_count": 7,
     "metadata": {},
     "output_type": "execute_result"
    }
   ],
   "source": [
    "#This a simple arithmetic expression to mutiply then add integers\n",
    "(3*4)+5"
   ]
  },
  {
   "cell_type": "code",
   "execution_count": 6,
   "id": "1b63fd08",
   "metadata": {},
   "outputs": [
    {
     "data": {
      "text/plain": [
       "3.3333333333333335"
      ]
     },
     "execution_count": 6,
     "metadata": {},
     "output_type": "execute_result"
    }
   ],
   "source": [
    "#This will convert 200 minutes to hours by diving by 60\n",
    "200/60"
   ]
  },
  {
   "cell_type": "markdown",
   "id": "72057e9e",
   "metadata": {},
   "source": [
    "Exercise 2 - Create a markdown cell with the title of the notebook. (1 pt)\n",
    "\n",
    "Exercise 3 - Create a markdown cell for an introduction. (1 pt)\n",
    "\n",
    "Exercise 4 - Create a markdown cell to list data science languages. (3 pts)\n",
    "\n",
    "Exercise 5 - Create a markdown cell to list data science libraries. (3 pts)\n",
    "\n",
    "Exercise 6 - Create a markdown cell with a table of Data Science tools. (3 pts)\n",
    "\n",
    "Exercise 7 - Create a markdown cell introducing arithmetic expression examples. (1 pt)\n",
    "\n",
    "Exercise 8 - Create a code cell to multiply and add numbers. (2 pts)\n",
    "\n",
    "Exercise 9 - Create a code cell to convert minutes to hours. (2 pts)\n",
    "\n",
    "Exercise 10 -Insert a markdown cell to list Objectives. (3 pts)\n",
    "\n",
    "Exercise 11 - Create a markdown cell to indicate the Author’s name. (2 pts)\n",
    "\n",
    "Exercise 12 - Share your notebook through GitHub (3 pts)\n",
    "\n",
    "Exercise 13 - Take a screenshot of the first page of the notebook. (1 pt)"
   ]
  },
  {
   "cell_type": "markdown",
   "id": "5197726d",
   "metadata": {},
   "source": [
    "## Author \n",
    "\n",
    "Kacper Kobus"
   ]
  }
 ],
 "metadata": {
  "kernelspec": {
   "display_name": "Python 3 (ipykernel)",
   "language": "python",
   "name": "python3"
  },
  "language_info": {
   "codemirror_mode": {
    "name": "ipython",
    "version": 3
   },
   "file_extension": ".py",
   "mimetype": "text/x-python",
   "name": "python",
   "nbconvert_exporter": "python",
   "pygments_lexer": "ipython3",
   "version": "3.9.7"
  }
 },
 "nbformat": 4,
 "nbformat_minor": 5
}
